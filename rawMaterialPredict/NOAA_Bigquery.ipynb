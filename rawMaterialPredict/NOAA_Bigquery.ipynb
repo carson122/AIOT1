{
 "cells": [
  {
   "cell_type": "code",
   "execution_count": 1,
   "metadata": {},
   "outputs": [],
   "source": [
    "#匯入GAC金鑰\n",
    "import os\n",
    "from google.cloud.bigquery.client import Client\n",
    "\n",
    "os.environ['GOOGLE_APPLICATION_CREDENTIALS'] = 'C:/Users/User/Downloads/My First Project-177c61ca4576.json'\n",
    "client = Client()"
   ]
  },
  {
   "cell_type": "code",
   "execution_count": 2,
   "metadata": {},
   "outputs": [],
   "source": [
    "from google.cloud import bigquery\n",
    "client = bigquery.Client(project='test')"
   ]
  },
  {
   "cell_type": "code",
   "execution_count": 3,
   "metadata": {},
   "outputs": [
    {
     "data": {
      "text/plain": [
       "<google.cloud.bigquery.client.Client at 0x15434d1c1d0>"
      ]
     },
     "execution_count": 3,
     "metadata": {},
     "output_type": "execute_result"
    }
   ],
   "source": [
    "client"
   ]
  },
  {
   "cell_type": "code",
   "execution_count": 6,
   "metadata": {},
   "outputs": [
    {
     "name": "stdout",
     "output_type": "stream",
     "text": [
      "Saved US_weather_2019.csv\n"
     ]
    }
   ],
   "source": [
    "import numpy as np  # linear algebra\n",
    "import pandas as pd # data processing, CSV file I/O (e.g. pd.read_csv)\n",
    "\n",
    "# Any results you write to the current directory are saved as output.\n",
    "\n",
    "import bq_helper \n",
    "\n",
    "# create a helper object for our bigquery dataset\n",
    "\n",
    "bqh = bq_helper.BigQueryHelper(active_project= \"bigquery-public-data\", dataset_name= \"noaa_gsod\")\n",
    "\n",
    "# build and run a series of queries to get annual temperatures for the US\n",
    "# WARNING: each year takes 5+ mins to run and the resultant dataset is about 100MB!\n",
    "\n",
    "START_YEAR = 2019\n",
    "END_YEAR = 2020\n",
    "\n",
    "for year in range(START_YEAR, END_YEAR):\n",
    "    query = \"SELECT * FROM `bigquery-public-data.noaa_gsod.gsod{}`\".format(year)\n",
    "    df_wthr = bqh.query_to_pandas_safe(query, max_gb_scanned=5)\n",
    "    filename = 'US_weather_{}.csv'.format(year)\n",
    "    df_wthr.to_csv(filename, index = False)\n",
    "    print (\"Saved {}\".format(filename))\n",
    "\n",
    "# build and run a query to get the stations contributing to US weather\n",
    "\n",
    "# stn_query = \"SELECT * FROM `bigquery-public-data.noaa_gsod.stations` \"\n",
    "# df_stn = bqh.query_to_pandas_safe(stn_query, max_gb_scanned=5)\n",
    "# filename = 'weather_stations.csv'\n",
    "# df_stn.to_csv(filename, index = False)\n",
    "# print (\"Saved {}\".format(filename))"
   ]
  }
 ],
 "metadata": {
  "kernelspec": {
   "display_name": "Python 3",
   "language": "python",
   "name": "python3"
  },
  "language_info": {
   "codemirror_mode": {
    "name": "ipython",
    "version": 3
   },
   "file_extension": ".py",
   "mimetype": "text/x-python",
   "name": "python",
   "nbconvert_exporter": "python",
   "pygments_lexer": "ipython3",
   "version": "3.6.8"
  }
 },
 "nbformat": 4,
 "nbformat_minor": 2
}
